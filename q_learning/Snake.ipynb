{
 "cells": [
  {
   "cell_type": "code",
   "execution_count": 1,
   "metadata": {},
   "outputs": [],
   "source": [
    "%matplotlib inline\n",
    "\n",
    "import torch\n",
    "from collections import defaultdict\n",
    "import pickle\n",
    "import os\n",
    "\n",
    "import training\n",
    "import benchmark\n",
    "\n",
    "\n",
    "# add parent directoru path and import Snake env\n",
    "import sys\n",
    "sys.path.append('..')\n",
    "from envs.snake import Snake"
   ]
  },
  {
   "cell_type": "code",
   "execution_count": 2,
   "metadata": {},
   "outputs": [
    {
     "data": {
      "image/png": "[encoded data removed]",
      "text/plain": [
       "<Figure size 432x288 with 1 Axes>"
      ]
     },
     "metadata": {
      "needs_background": "light"
     },
     "output_type": "display_data"
    },
    {
     "name": "stdout",
     "output_type": "stream",
     "text": [
      "steps_without_gain: 0\n",
      "direction: 0\n",
      "target: (0, 4)\n",
      "target_distance: (-1, 3)\n",
      "obstacle_distance: (1, 1, 3)\n"
     ]
    }
   ],
   "source": [
    "env = Snake(side=5)\n",
    "env.render()"
   ]
  },
  {
   "cell_type": "code",
   "execution_count": 3,
   "metadata": {},
   "outputs": [
    {
     "data": {
      "image/png": "[encoded data removed]",
      "text/plain": [
       "<Figure size 432x288 with 1 Axes>"
      ]
     },
     "metadata": {
      "needs_background": "light"
     },
     "output_type": "display_data"
    },
    {
     "name": "stdout",
     "output_type": "stream",
     "text": [
      "steps_without_gain: 1\n",
      "direction: 1\n",
      "target: (0, 4)\n",
      "target_distance: (-1, 4)\n",
      "obstacle_distance: (3, 0, 1)\n"
     ]
    },
    {
     "data": {
      "image/png": "[encoded data removed]",
      "text/plain": [
       "<Figure size 432x288 with 1 Axes>"
      ]
     },
     "metadata": {
      "needs_background": "light"
     },
     "output_type": "display_data"
    },
    {
     "name": "stdout",
     "output_type": "stream",
     "text": [
      "steps_without_gain: 2\n",
      "direction: 2\n",
      "target: (0, 4)\n",
      "target_distance: (-2, 4)\n",
      "obstacle_distance: (4, 2, 4)\n"
     ]
    },
    {
     "data": {
      "image/png": "[encoded data removed]",
      "text/plain": [
       "<Figure size 432x288 with 1 Axes>"
      ]
     },
     "metadata": {
      "needs_background": "light"
     },
     "output_type": "display_data"
    },
    {
     "name": "stdout",
     "output_type": "stream",
     "text": [
      "steps_without_gain: 3\n",
      "direction: 2\n",
      "target: (0, 4)\n",
      "target_distance: (-3, 4)\n",
      "obstacle_distance: (4, 1, 4)\n"
     ]
    },
    {
     "data": {
      "image/png": "[encoded data removed]",
      "text/plain": [
       "<Figure size 432x288 with 1 Axes>"
      ]
     },
     "metadata": {
      "needs_background": "light"
     },
     "output_type": "display_data"
    },
    {
     "name": "stdout",
     "output_type": "stream",
     "text": [
      "steps_without_gain: 3\n",
      "direction: 1\n",
      "target: (0, 4)\n",
      "target_distance: (-3, 4)\n",
      "obstacle_distance: (1, 0, 3)\n"
     ]
    }
   ],
   "source": [
    "done = False\n",
    "while not done:\n",
    "    action = env.action_space.sample()\n",
    "    state, reward, done, _ = env.step(action)\n",
    "    env.render()"
   ]
  },
  {
   "cell_type": "markdown",
   "metadata": {},
   "source": [
    "## Train model"
   ]
  },
  {
   "cell_type": "markdown",
   "metadata": {},
   "source": [
    "### Create environment"
   ]
  },
  {
   "cell_type": "code",
   "execution_count": 4,
   "metadata": {},
   "outputs": [],
   "source": [
    "env = Snake(side=10)"
   ]
  },
  {
   "cell_type": "markdown",
   "metadata": {},
   "source": [
    "### Recover saved Q-Table if exists"
   ]
  },
  {
   "cell_type": "code",
   "execution_count": 5,
   "metadata": {},
   "outputs": [],
   "source": [
    "save_file = 'Snake_saved/Snake-qtable.pkl'\n",
    "\n",
    "if os.path.exists(save_file):\n",
    "    with open(save_file, 'rb') as f:\n",
    "        mk_entry = lambda: torch.zeros((env.action_space.n,))\n",
    "        q_table = defaultdict(mk_entry, pickle.load(f)) \n",
    "else:\n",
    "    q_table = None"
   ]
  },
  {
   "cell_type": "markdown",
   "metadata": {},
   "source": [
    "### Fit Q-Table"
   ]
  },
  {
   "cell_type": "code",
   "execution_count": 7,
   "metadata": {},
   "outputs": [
    {
     "data": {
      "application/vnd.jupyter.widget-view+json": {
       "model_id": "4654160f7dfc44d2a5444202e8b21765",
       "version_major": 2,
       "version_minor": 0
      },
      "text/plain": [
       "HBox(children=(IntProgress(value=0, max=500000), HTML(value='')))"
      ]
     },
     "metadata": {},
     "output_type": "display_data"
    },
    {
     "name": "stdout",
     "output_type": "stream",
     "text": [
      "Episode 1000: New best score! -96.0\n",
      "Episode 2000: New best score! -92.0\n",
      "Episode 3000: New best score! -90.0\n",
      "Episode 4000: New best score! -89.0\n",
      "Episode 6000: New best score! -88.0\n",
      "Episode 8000: New best score! -79.0\n",
      "Episode 9000: New best score! -65.0\n",
      "Episode 13000: New best score! -58.0\n",
      "Episode 14000: New best score! -54.0\n",
      "Episode 16000: New best score! -39.0\n",
      "Episode 17000: New best score! -28.0\n",
      "Episode 18000: New best score! -23.0\n",
      "Episode 20000: New best score! 6.0\n",
      "Episode 21000: New best score! 7.0\n",
      "Episode 23000: New best score! 47.0\n",
      "Episode 26000: New best score! 53.0\n",
      "Episode 30000: New best score! 55.0\n",
      "Episode 32000: New best score! 78.0\n",
      "Episode 34000: New best score! 99.0\n",
      "Episode 37000: New best score! 119.0\n",
      "Episode 39000: New best score! 125.0\n",
      "Episode 41000: New best score! 137.0\n",
      "Episode 45000: New best score! 164.0\n",
      "Episode 47000: New best score! 169.0\n",
      "Episode 49000: New best score! 203.0\n",
      "Episode 56000: New best score! 210.0\n",
      "Episode 57000: New best score! 223.0\n",
      "Episode 59000: New best score! 244.0\n",
      "Episode 60000: New best score! 283.0\n",
      "Episode 71000: New best score! 295.0\n",
      "Episode 83000: New best score! 302.0\n",
      "Episode 85000: New best score! 324.0\n",
      "Episode 90000: New best score! 336.0\n",
      "Episode 98000: New best score! 359.0\n",
      "Episode 107000: New best score! 386.0\n",
      "Episode 140000: New best score! 413.0\n",
      "Episode 174000: New best score! 415.0\n",
      "Episode 177000: New best score! 420.0\n",
      "Episode 187000: New best score! 434.0\n",
      "Episode 189000: New best score! 443.0\n",
      "Episode 236000: New best score! 470.0\n",
      "Episode 289000: New best score! 479.0\n",
      "Episode 296000: New best score! 488.0\n",
      "Episode 334000: New best score! 489.0\n",
      "Episode 357000: New best score! 514.0\n",
      "Episode 395000: New best score! 515.0\n",
      "Episode 416000: New best score! 554.0\n",
      "Episode 429000: New best score! 568.0\n"
     ]
    }
   ],
   "source": [
    "best_score, q_table = training.fit(env, q_table, episodes=500_000, epsilon_min=0.09, epsilon_decay=0.99, learning_rate=0.1)"
   ]
  },
  {
   "cell_type": "markdown",
   "metadata": {},
   "source": [
    "### Save Q-Table"
   ]
  },
  {
   "cell_type": "code",
   "execution_count": null,
   "metadata": {
    "scrolled": true
   },
   "outputs": [],
   "source": [
    "with open(save_file, 'wb') as f:\n",
    "    pickle.dump(dict(q_table), f)"
   ]
  },
  {
   "cell_type": "markdown",
   "metadata": {},
   "source": [
    "### Play an episode"
   ]
  },
  {
   "cell_type": "code",
   "execution_count": null,
   "metadata": {},
   "outputs": [],
   "source": [
    "from IPython.display import clear_output\n",
    "import time\n",
    "import torch\n",
    "\n",
    "env = Snake(side=10, max_steps_without_gain=1000)\n",
    "state = env.reset()\n",
    "done = False\n",
    "while not done:\n",
    "    action = torch.argmax(q_table[state]).item()\n",
    "    state, _, done, _ = env.step(action)\n",
    "    clear_output()\n",
    "    env.render()\n",
    "    time.sleep(0.15)\n",
    "    "
   ]
  },
  {
   "cell_type": "code",
   "execution_count": null,
   "metadata": {},
   "outputs": [],
   "source": []
  },
  {
   "cell_type": "code",
   "execution_count": null,
   "metadata": {},
   "outputs": [],
   "source": []
  }
 ],
 "metadata": {
  "kernelspec": {
   "display_name": "Python 3",
   "language": "python",
   "name": "python3"
  },
  "language_info": {
   "codemirror_mode": {
    "name": "ipython",
    "version": 3
   },
   "file_extension": ".py",
   "mimetype": "text/x-python",
   "name": "python",
   "nbconvert_exporter": "python",
   "pygments_lexer": "ipython3",
   "version": "3.6.8"
  }
 },
 "nbformat": 4,
 "nbformat_minor": 2
}
