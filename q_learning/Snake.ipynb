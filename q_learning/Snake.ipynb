{
 "cells": [
  {
   "cell_type": "code",
   "execution_count": 1,
   "metadata": {},
   "outputs": [],
   "source": [
    "import torch\n",
    "from collections import defaultdict\n",
    "import pickle\n",
    "import os\n",
    "\n",
    "import training\n",
    "import benchmark\n",
    "\n",
    "\n",
    "# add parent directoru path and import Snake env\n",
    "import sys\n",
    "sys.path.append('..')\n",
    "from envs.snake import Snake"
   ]
  },
  {
   "cell_type": "code",
   "execution_count": 2,
   "metadata": {},
   "outputs": [
    {
     "data": {
      "image/png": "[encoded data removed]",
      "text/plain": [
       "<Figure size 432x288 with 1 Axes>"
      ]
     },
     "metadata": {
      "needs_background": "light"
     },
     "output_type": "display_data"
    },
    {
     "name": "stdout",
     "output_type": "stream",
     "text": [
      "steps_without_gain: 0\n",
      "direction: None\n",
      "target: (4, 2)\n",
      "target_distance: (2, -1)\n",
      "obstacle_distance: (3, 1, 2, 2)\n"
     ]
    }
   ],
   "source": [
    "env = Snake(side=5)\n",
    "env.render()"
   ]
  },
  {
   "cell_type": "code",
   "execution_count": 3,
   "metadata": {},
   "outputs": [
    {
     "data": {
      "image/png": "[encoded data removed]",
      "text/plain": [
       "<Figure size 432x288 with 1 Axes>"
      ]
     },
     "metadata": {
      "needs_background": "light"
     },
     "output_type": "display_data"
    },
    {
     "name": "stdout",
     "output_type": "stream",
     "text": [
      "steps_without_gain: 1\n",
      "direction: 3\n",
      "target: (4, 2)\n",
      "target_distance: (2, -2)\n",
      "obstacle_distance: (4, 0, 2, 2)\n"
     ]
    },
    {
     "data": {
      "image/png": "[encoded data removed]",
      "text/plain": [
       "<Figure size 432x288 with 1 Axes>"
      ]
     },
     "metadata": {
      "needs_background": "light"
     },
     "output_type": "display_data"
    },
    {
     "name": "stdout",
     "output_type": "stream",
     "text": [
      "steps_without_gain: 1\n",
      "direction: 3\n",
      "target: (4, 2)\n",
      "target_distance: (2, -2)\n",
      "obstacle_distance: (4, 0, 2, 2)\n"
     ]
    }
   ],
   "source": [
    "done = False\n",
    "while not done:\n",
    "    action = env.action_space.sample()\n",
    "    state, reward, done, _ = env.step(action)\n",
    "    env.render()"
   ]
  },
  {
   "cell_type": "markdown",
   "metadata": {},
   "source": [
    "## Train model"
   ]
  },
  {
   "cell_type": "markdown",
   "metadata": {},
   "source": [
    "### Create environment"
   ]
  },
  {
   "cell_type": "code",
   "execution_count": 3,
   "metadata": {},
   "outputs": [],
   "source": [
    "env = Snake(side=10)"
   ]
  },
  {
   "cell_type": "markdown",
   "metadata": {},
   "source": [
    "### Recover saved Q-Table if exists"
   ]
  },
  {
   "cell_type": "code",
   "execution_count": 4,
   "metadata": {},
   "outputs": [],
   "source": [
    "save_file = 'Snake_saved/Snake-qtable.pkl'\n",
    "\n",
    "if os.path.exists(save_file):\n",
    "    with open(save_file, 'rb') as f:\n",
    "        mk_entry = lambda: torch.zeros((env.action_space.n,))\n",
    "        q_table = defaultdict(mk_entry, pickle.load(f)) \n",
    "else:\n",
    "    q_table = None"
   ]
  },
  {
   "cell_type": "markdown",
   "metadata": {},
   "source": [
    "### Fit Q-Table"
   ]
  },
  {
   "cell_type": "code",
   "execution_count": 6,
   "metadata": {},
   "outputs": [
    {
     "name": "stderr",
     "output_type": "stream",
     "text": [
      "\r",
      "  0%|          | 0/100000 [00:00<?, ?it/s]"
     ]
    },
    {
     "name": "stdout",
     "output_type": "stream",
     "text": [
      "Episode 1000: New best score! 717.0\n",
      "Episode 32000: New best score! 738.0\n",
      "Episode 34000: New best score! 739.0\n",
      "Episode 38000: New best score! 745.0\n",
      "Episode 39000: New best score! 765.0\n",
      "Episode 51000: New best score! 786.0\n",
      "Episode 54000: New best score! 811.0\n",
      "Episode 55000: New best score! 820.0\n",
      "Episode 65000: New best score! 822.0\n",
      "Episode 73000: New best score! 823.0\n",
      "Episode 74000: New best score! 866.0\n",
      "Episode 80000: New best score! 884.0\n",
      "Episode 93000: New best score! 907.0\n",
      "Episode 99000: New best score! 931.0\n"
     ]
    },
    {
     "name": "stderr",
     "output_type": "stream",
     "text": [
      "\n",
      "  0%|          | 0/100000 [00:00<?, ?it/s]\u001b[A"
     ]
    },
    {
     "name": "stdout",
     "output_type": "stream",
     "text": [
      "Episode 1000: New best score! 830.0\n",
      "Episode 2000: New best score! 939.0\n",
      "Episode 75000: New best score! 971.0\n"
     ]
    }
   ],
   "source": [
    "best_score, q_table = training.fit(env, q_table, episodes=100_000, epsilon_min=0.1, learning_rate=0.1)\n",
    "\n",
    "# Decrease learning rate for second run\n",
    "best_score, q_table = training.fit(env, q_table=q_table, episodes=100_000, epsilon_min=0.1, learning_rate=0.01)"
   ]
  },
  {
   "cell_type": "markdown",
   "metadata": {},
   "source": [
    "### Save Q-Table"
   ]
  },
  {
   "cell_type": "code",
   "execution_count": 2,
   "metadata": {
    "scrolled": true
   },
   "outputs": [
    {
     "ename": "NameError",
     "evalue": "name 'save_file' is not defined",
     "output_type": "error",
     "traceback": [
      "\u001b[0;31m---------------------------------------------------------------------------\u001b[0m",
      "\u001b[0;31mNameError\u001b[0m                                 Traceback (most recent call last)",
      "\u001b[0;32m<ipython-input-2-fe1e4542c2f2>\u001b[0m in \u001b[0;36m<module>\u001b[0;34m\u001b[0m\n\u001b[0;32m----> 1\u001b[0;31m \u001b[0;32mwith\u001b[0m \u001b[0mopen\u001b[0m\u001b[0;34m(\u001b[0m\u001b[0msave_file\u001b[0m\u001b[0;34m,\u001b[0m \u001b[0;34m'wb'\u001b[0m\u001b[0;34m)\u001b[0m \u001b[0;32mas\u001b[0m \u001b[0mf\u001b[0m\u001b[0;34m:\u001b[0m\u001b[0;34m\u001b[0m\u001b[0;34m\u001b[0m\u001b[0m\n\u001b[0m\u001b[1;32m      2\u001b[0m     \u001b[0mpickle\u001b[0m\u001b[0;34m.\u001b[0m\u001b[0mdump\u001b[0m\u001b[0;34m(\u001b[0m\u001b[0mdict\u001b[0m\u001b[0;34m(\u001b[0m\u001b[0mq_table\u001b[0m\u001b[0;34m)\u001b[0m\u001b[0;34m,\u001b[0m \u001b[0mf\u001b[0m\u001b[0;34m)\u001b[0m\u001b[0;34m\u001b[0m\u001b[0;34m\u001b[0m\u001b[0m\n",
      "\u001b[0;31mNameError\u001b[0m: name 'save_file' is not defined"
     ]
    }
   ],
   "source": [
    "with open(save_file, 'wb') as f:\n",
    "    pickle.dump(dict(q_table), f)"
   ]
  },
  {
   "cell_type": "markdown",
   "metadata": {},
   "source": [
    "### Play an episode"
   ]
  },
  {
   "cell_type": "code",
   "execution_count": 6,
   "metadata": {},
   "outputs": [
    {
     "data": {
      "image/png": "[encoded data removed]",
      "text/plain": [
       "<Figure size 432x288 with 1 Axes>"
      ]
     },
     "metadata": {
      "needs_background": "light"
     },
     "output_type": "display_data"
    },
    {
     "name": "stdout",
     "output_type": "stream",
     "text": [
      "steps_without_gain: 20\n",
      "direction: 2\n",
      "target: (5, 2)\n",
      "target_distance: (0, -5)\n",
      "obstacle_distance: (0, 0, 0, 0)\n"
     ]
    }
   ],
   "source": [
    "from IPython.display import clear_output\n",
    "import time\n",
    "import torch\n",
    "\n",
    "env = Snake(side=10, max_steps_without_gain=1000)\n",
    "state = env.reset()\n",
    "done = False\n",
    "while not done:\n",
    "    action = torch.argmax(q_table[state]).item()\n",
    "    state, _, done, _ = env.step(action)\n",
    "    clear_output()\n",
    "    env.render()\n",
    "    time.sleep(0.15)\n",
    "    "
   ]
  },
  {
   "cell_type": "code",
   "execution_count": null,
   "metadata": {},
   "outputs": [],
   "source": []
  },
  {
   "cell_type": "code",
   "execution_count": null,
   "metadata": {},
   "outputs": [],
   "source": []
  }
 ],
 "metadata": {
  "kernelspec": {
   "display_name": "Python 3",
   "language": "python",
   "name": "python3"
  },
  "language_info": {
   "codemirror_mode": {
    "name": "ipython",
    "version": 3
   },
   "file_extension": ".py",
   "mimetype": "text/x-python",
   "name": "python",
   "nbconvert_exporter": "python",
   "pygments_lexer": "ipython3",
   "version": "3.6.8"
  }
 },
 "nbformat": 4,
 "nbformat_minor": 2
}
