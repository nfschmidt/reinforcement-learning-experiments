{
 "cells": [
  {
   "cell_type": "markdown",
   "metadata": {},
   "source": [
    "# Taxi-v2"
   ]
  },
  {
   "cell_type": "markdown",
   "metadata": {},
   "source": [
    "Import needed dependencies"
   ]
  },
  {
   "cell_type": "code",
   "execution_count": 1,
   "metadata": {},
   "outputs": [],
   "source": [
    "import gym\n",
    "import torch\n",
    "import training\n",
    "import benchmark"
   ]
  },
  {
   "cell_type": "code",
   "execution_count": 2,
   "metadata": {},
   "outputs": [],
   "source": [
    "ENV = 'Taxi-v2'"
   ]
  },
  {
   "cell_type": "markdown",
   "metadata": {},
   "source": [
    "## Interaction with the environment\n",
    "Explore the environment to understand its dynamics, observations and actions."
   ]
  },
  {
   "cell_type": "code",
   "execution_count": 3,
   "metadata": {},
   "outputs": [
    {
     "name": "stdout",
     "output_type": "stream",
     "text": [
      "Observation space: Discrete(500)\n",
      "Observation space sample: 445\n",
      "Action space: Discrete(6)\n",
      "Action space sample: 3\n",
      "State: 213\n",
      "+---------+\n",
      "|R: | : :\u001b[35mG\u001b[0m|\n",
      "| : : : : |\n",
      "|\u001b[43m \u001b[0m: : : : |\n",
      "| | : | : |\n",
      "|Y| : |\u001b[34;1mB\u001b[0m: |\n",
      "+---------+\n",
      "\n"
     ]
    }
   ],
   "source": [
    "test_env = gym.make(ENV)\n",
    "state = test_env.reset()\n",
    "print(f'Observation space: {test_env.observation_space}')\n",
    "print(f'Observation space sample: {test_env.observation_space.sample()}')\n",
    "\n",
    "print(f'Action space: {test_env.action_space}')\n",
    "print(f'Action space sample: {test_env.action_space.sample()}')\n",
    "\n",
    "print(f'State: {state}')\n",
    "test_env.render()"
   ]
  },
  {
   "cell_type": "markdown",
   "metadata": {},
   "source": [
    "Play random action and see how it affects the environment"
   ]
  },
  {
   "cell_type": "code",
   "execution_count": 4,
   "metadata": {},
   "outputs": [
    {
     "name": "stdout",
     "output_type": "stream",
     "text": [
      "Action: 3\tNew state: 213\tReward: -1\tDone:False\n",
      "+---------+\n",
      "|R: | : :\u001b[35mG\u001b[0m|\n",
      "| : : : : |\n",
      "|\u001b[43m \u001b[0m: : : : |\n",
      "| | : | : |\n",
      "|Y| : |\u001b[34;1mB\u001b[0m: |\n",
      "+---------+\n",
      "  (West)\n"
     ]
    }
   ],
   "source": [
    "random_action = test_env.action_space.sample()\n",
    "new_state, reward, done, _ = test_env.step(random_action)\n",
    "\n",
    "print(f'Action: {random_action}\\tNew state: {new_state}\\tReward: {reward}\\tDone:{done}')\n",
    "test_env.render()"
   ]
  },
  {
   "cell_type": "markdown",
   "metadata": {},
   "source": [
    "## Solving the environment using Q-Learning"
   ]
  },
  {
   "cell_type": "code",
   "execution_count": null,
   "metadata": {},
   "outputs": [
    {
     "name": "stdout",
     "output_type": "stream",
     "text": [
      "Episode 2000: New best score! 8.550000190734863\n",
      "Episode 4000: New best score! 8.649999618530273\n",
      "Episode 5000: New best score! 8.739999771118164\n"
     ]
    }
   ],
   "source": [
    "env = gym.make(ENV)\n",
    "\n",
    "best_score, q_table = training.fit(env, episodes=10_000)\n",
    "rewards = benchmark.play_episodes(env, q_table, episodes=100)\n",
    "\n",
    "mean_reward = rewards.mean().item()\n",
    "print(f'Mean reward: {mean_reward}')"
   ]
  },
  {
   "cell_type": "code",
   "execution_count": null,
   "metadata": {},
   "outputs": [],
   "source": [
    "benchmark.play_episodes(env, q_table, render=True)"
   ]
  },
  {
   "cell_type": "markdown",
   "metadata": {},
   "source": [
    "Save q-table to file"
   ]
  },
  {
   "cell_type": "code",
   "execution_count": null,
   "metadata": {},
   "outputs": [],
   "source": [
    "torch.save(q_table, 'Taxi-v2_saved/Taxi-v2-qtable.pt')"
   ]
  }
 ],
 "metadata": {
  "kernelspec": {
   "display_name": "Python 3",
   "language": "python",
   "name": "python3"
  },
  "language_info": {
   "codemirror_mode": {
    "name": "ipython",
    "version": 3
   },
   "file_extension": ".py",
   "mimetype": "text/x-python",
   "name": "python",
   "nbconvert_exporter": "python",
   "pygments_lexer": "ipython3",
   "version": "3.6.8"
  }
 },
 "nbformat": 4,
 "nbformat_minor": 2
}
