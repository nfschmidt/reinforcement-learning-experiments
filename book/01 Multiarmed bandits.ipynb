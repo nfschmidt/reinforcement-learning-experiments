{
 "cells": [
  {
   "cell_type": "markdown",
   "metadata": {},
   "source": [
    "# Multiarmed bandits"
   ]
  },
  {
   "cell_type": "code",
   "execution_count": 1,
   "metadata": {},
   "outputs": [],
   "source": [
    "import torch\n",
    "import matplotlib.pyplot as plt"
   ]
  },
  {
   "cell_type": "markdown",
   "metadata": {},
   "source": [
    "## K Armed Bandit implementation\n",
    "\n",
    "This is a simple implementation of a K-Armed bandit environment.\n",
    "It is implemented following the guidelines given in Chapter 2: Multi-armed Bandits of the book \"Reinforcement Learning an introduction 2ed\" section 2.3.\n",
    "\n",
    "The true value q\\*(a) of each of the K actions is selected according to a normal distribution with mean zero and unit variance, and then the actual rewards are selected according to a mean q\\*(a) unit variance normal distribution.\n",
    "\n",
    "The step method returns a reward an a new state to follow the conventions of Reinforcement Learning frameworks. However, for the K-Armed Bandit environment the states do not change, so it allways returns None."
   ]
  },
  {
   "cell_type": "code",
   "execution_count": 2,
   "metadata": {},
   "outputs": [],
   "source": [
    "class KArmedBandit:\n",
    "    \n",
    "    def __init__(self, k=10):\n",
    "        self.k = k\n",
    "        self.reset()\n",
    "        \n",
    "    def reset(self):\n",
    "        '''Reset the environment. Creates new probability distributions for each arm.'''\n",
    "        # probability distribution of the arm mean\n",
    "        arms_mean_dist = torch.distributions.Normal(0, 1)\n",
    "        \n",
    "        # probability distribution of each arm reward\n",
    "        self.arms = [torch.distributions.Normal(arms_mean_dist.sample((1,)), 1) for _ in range(self.k)]\n",
    "\n",
    "    def step(self, action):\n",
    "        '''Pull the specified arm and return the reward.'''\n",
    "\n",
    "        arm = self.arms[action]\n",
    "        reward = arm.sample((1,)).view((1,))\n",
    "        \n",
    "        return reward, None\n",
    "    \n",
    "    def state(self):\n",
    "        return None"
   ]
  },
  {
   "cell_type": "markdown",
   "metadata": {},
   "source": [
    "## Agents"
   ]
  },
  {
   "cell_type": "markdown",
   "metadata": {},
   "source": [
    "### Random Agent\n",
    "Will always play random actions"
   ]
  },
  {
   "cell_type": "code",
   "execution_count": 3,
   "metadata": {},
   "outputs": [],
   "source": [
    "class RandomAgent:\n",
    "    \n",
    "    def reset(self):\n",
    "        pass\n",
    "\n",
    "    def play_action(self, env):\n",
    "        action = torch.randint(env.k, (1,))\n",
    "        reward, new_state = env.step(action)\n",
    "        \n",
    "        return action, reward, new_state"
   ]
  },
  {
   "cell_type": "markdown",
   "metadata": {},
   "source": [
    "### Greedy agent\n",
    "Will always play the best action known (the action with the highest estimated value).\n",
    "\n",
    "To estimate the value of each action a list of received rewards and the number of times the action was selected is saved. The estimated value is computed as the average reward for each action. The action with the highest average reward is selected.\n",
    "\n",
    "An epsilon parameter is supported to use an Epsilon-Greedy strategy. In this case there is a probability of epsilon that a random action will be selected, without taking into account the estimated rewards for each action, which encourages exploration of the different available actions."
   ]
  },
  {
   "cell_type": "code",
   "execution_count": 4,
   "metadata": {},
   "outputs": [],
   "source": [
    "class GreedyAgent:\n",
    "\n",
    "    def __init__(self, k, epsilon=0.0):\n",
    "        self._k = k\n",
    "        self._epsilon = epsilon\n",
    "        self.reset()\n",
    "        \n",
    "    def reset(self):\n",
    "        self._actions_rewards = torch.empty(self._k)\n",
    "        self._actions_count = torch.empty(self._k)\n",
    "        self._steps = 0\n",
    "    \n",
    "    def play_action(self, env):      \n",
    "        if not self._steps or torch.rand(1) < self._epsilon:\n",
    "            # if this is the first step, or epsilon is in range: select random action\n",
    "            action = torch.randint(self._k, (1,)).view((1,))\n",
    "        else:\n",
    "            # select best known action\n",
    "            action = torch.argmax(self._actions_rewards/self._actions_count).view((1,))\n",
    "\n",
    "        reward, new_state = env.step(action)\n",
    "        \n",
    "        self._actions_count[action] += 1\n",
    "        self._actions_rewards[action] += reward\n",
    "        \n",
    "        self._steps += 1\n",
    "\n",
    "        return action, reward, new_state"
   ]
  },
  {
   "cell_type": "markdown",
   "metadata": {},
   "source": [
    "## The 10-armed Testbed\n",
    "Comparison of different agents with different policies using a 10-Armed Bandit environment"
   ]
  },
  {
   "cell_type": "code",
   "execution_count": 5,
   "metadata": {},
   "outputs": [],
   "source": [
    "def test_agent(agent, env, steps=1000, runs=2000):\n",
    "    rewards = torch.empty((runs, steps))\n",
    "    actions = torch.empty((runs, steps), dtype=torch.int32)\n",
    "\n",
    "    for run in range(runs):\n",
    "        agent.reset()\n",
    "        env.reset()\n",
    "\n",
    "        for step in range(steps):\n",
    "            # select and play action\n",
    "            action, reward, new_state = agent.play_action(env)\n",
    "            \n",
    "            # save action and reward\n",
    "            actions[run][step] = action\n",
    "            rewards[run][step] = reward\n",
    "            \n",
    "    return actions, rewards"
   ]
  },
  {
   "cell_type": "code",
   "execution_count": 6,
   "metadata": {},
   "outputs": [
    {
     "name": "stdout",
     "output_type": "stream",
     "text": [
      "Testing random agent\n",
      "Testing greedy agent\n",
      "Testing epsilon-greedy-0.1 agent\n",
      "Testing epsilon-greedy-0.01 agent\n"
     ]
    },
    {
     "data": {
      "image/png": "[encoded data removed]",
      "text/plain": [
       "<Figure size 432x288 with 1 Axes>"
      ]
     },
     "metadata": {
      "needs_background": "light"
     },
     "output_type": "display_data"
    }
   ],
   "source": [
    "k = 10\n",
    "env = KArmedBandit(k=k)\n",
    "\n",
    "agents = {\n",
    "    'random': RandomAgent(),\n",
    "    'greedy': GreedyAgent(k),\n",
    "    'epsilon-greedy-0.1': GreedyAgent(k, epsilon=0.1),\n",
    "    'epsilon-greedy-0.01': GreedyAgent(k, epsilon=0.01),\n",
    "}\n",
    "\n",
    "actions = {}\n",
    "rewards = {}\n",
    "\n",
    "for name, agent in agents.items():\n",
    "    print(f'Testing {name} agent')\n",
    "    actions[name], rewards[name] = test_agent(agent, env)\n",
    "\n",
    "for name, rews in rewards.items():\n",
    "    mean_rewards = rews.mean(axis=0)\n",
    "    plt.plot(torch.arange(mean_rewards.shape[0]), mean_rewards, label=name)\n",
    "\n",
    "plt.legend(bbox_to_anchor=(1.05, 1), loc='upper left', borderaxespad=0.)\n",
    "plt.show()"
   ]
  }
 ],
 "metadata": {
  "kernelspec": {
   "display_name": "Python 3",
   "language": "python",
   "name": "python3"
  },
  "language_info": {
   "codemirror_mode": {
    "name": "ipython",
    "version": 3
   },
   "file_extension": ".py",
   "mimetype": "text/x-python",
   "name": "python",
   "nbconvert_exporter": "python",
   "pygments_lexer": "ipython3",
   "version": "3.6.8"
  }
 },
 "nbformat": 4,
 "nbformat_minor": 2
}
